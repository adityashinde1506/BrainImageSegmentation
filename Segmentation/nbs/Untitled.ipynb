{
 "cells": [
  {
   "cell_type": "code",
   "execution_count": 3,
   "metadata": {},
   "outputs": [],
   "source": [
    "from zipfile import ZipFile\n",
    "from pathlib import Path"
   ]
  },
  {
   "cell_type": "code",
   "execution_count": 9,
   "metadata": {},
   "outputs": [
    {
     "name": "stdout",
     "output_type": "stream",
     "text": [
      "../data/HGG/Brats18_CBICA_ABN_1\n",
      "../data/HGG/Brats18_CBICA_ABN_1/Brats18_CBICA_ABN_1_t2.nii.gz\n",
      "../data/HGG/Brats18_CBICA_ABN_1/Brats18_CBICA_ABN_1_seg.nii.gz\n",
      "../data/HGG/Brats18_CBICA_ABN_1/Brats18_CBICA_ABN_1_t1.nii.gz\n",
      "../data/HGG/Brats18_CBICA_ABN_1/Brats18_CBICA_ABN_1_flair.nii.gz\n",
      "../data/HGG/Brats18_CBICA_ABN_1/Brats18_CBICA_ABN_1_t1ce.nii.gz\n"
     ]
    }
   ],
   "source": [
    "data_dir = Path(\"../data/HGG/\")\n",
    "data_folders = data_dir.iterdir()\n",
    "\n",
    "for data_folder in data_folders:\n",
    "    print(data_folder)\n",
    "    for file in data_folder.iterdir():\n",
    "        print(file)\n",
    "        \n",
    "    break"
   ]
  },
  {
   "cell_type": "code",
   "execution_count": null,
   "metadata": {},
   "outputs": [],
   "source": []
  }
 ],
 "metadata": {
  "kernelspec": {
   "display_name": "Python 3",
   "language": "python",
   "name": "python3"
  },
  "language_info": {
   "codemirror_mode": {
    "name": "ipython",
    "version": 3
   },
   "file_extension": ".py",
   "mimetype": "text/x-python",
   "name": "python",
   "nbconvert_exporter": "python",
   "pygments_lexer": "ipython3",
   "version": "3.6.5"
  }
 },
 "nbformat": 4,
 "nbformat_minor": 2
}
